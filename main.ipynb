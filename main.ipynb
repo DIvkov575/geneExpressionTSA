{
 "cells": [
  {
   "metadata": {},
   "cell_type": "code",
   "outputs": [],
   "execution_count": null,
   "source": "pd.read_csv(\"\")",
   "id": "2bfdfdd2511ca9de"
  }
 ],
 "metadata": {},
 "nbformat": 5,
 "nbformat_minor": 9
}
